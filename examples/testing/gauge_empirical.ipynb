{
 "cells": [
  {
   "cell_type": "code",
   "execution_count": 52,
   "id": "b368246f-7bfc-4ea3-83d9-77161f8105e0",
   "metadata": {},
   "outputs": [],
   "source": [
    "import numpy as np\n",
    "np.random.seed(0)"
   ]
  },
  {
   "cell_type": "code",
   "execution_count": 53,
   "id": "0646fd54-c54d-4cf8-bbec-b81b683a39ee",
   "metadata": {},
   "outputs": [
    {
     "data": {
      "text/plain": [
       "(5, 4)"
      ]
     },
     "execution_count": 53,
     "metadata": {},
     "output_type": "execute_result"
    }
   ],
   "source": [
    "#create wild-type example; e.g., 'ACGTA'\n",
    "wt = np.array([[1,0,0,0],[0,1,0,0],[0,0,1,0],[0,0,0,1],[1,0,0,0]])\n",
    "\n",
    "wt.shape #wild-type OH shape=(Lx4)"
   ]
  },
  {
   "cell_type": "code",
   "execution_count": 54,
   "id": "d3a82cd0-285e-480d-b579-e4a77cb0ddb8",
   "metadata": {},
   "outputs": [
    {
     "data": {
      "text/plain": [
       "array([[ 0.09762701,  0.43037873,  0.20552675,  0.08976637],\n",
       "       [-0.1526904 ,  0.29178823, -0.12482558,  0.783546  ],\n",
       "       [ 0.92732552, -0.23311696,  0.58345008,  0.05778984],\n",
       "       [ 0.13608912,  0.85119328, -0.85792788, -0.8257414 ],\n",
       "       [-0.95956321,  0.66523969,  0.5563135 ,  0.7400243 ]])"
      ]
     },
     "execution_count": 54,
     "metadata": {},
     "output_type": "execute_result"
    }
   ],
   "source": [
    "#create attribution matrix example\n",
    "x = np.random.uniform(low=-1, high=1, size=wt.shape)\n",
    "\n",
    "x"
   ]
  },
  {
   "cell_type": "code",
   "execution_count": 55,
   "id": "dad4c301-6029-4068-96e3-2fbe9ec16ddb",
   "metadata": {},
   "outputs": [
    {
     "data": {
      "text/plain": [
       "array([0, 1, 2, 3, 0])"
      ]
     },
     "execution_count": 55,
     "metadata": {},
     "output_type": "execute_result"
    }
   ],
   "source": [
    "r = 0.10 #probability of mutation\n",
    "L = wt.shape[0] #length of sequence\n",
    "wt_argmax = np.argmax(wt, axis=1) #index of each wild-type in the one-hot encoding\n",
    "\n",
    "wt_argmax"
   ]
  },
  {
   "cell_type": "code",
   "execution_count": 60,
   "id": "8ac5f073-e0d9-40d5-9d84-cd115e9da074",
   "metadata": {},
   "outputs": [
    {
     "data": {
      "text/plain": [
       "array([[0.9       , 0.03333333, 0.03333333, 0.03333333],\n",
       "       [0.03333333, 0.9       , 0.03333333, 0.03333333],\n",
       "       [0.03333333, 0.03333333, 0.9       , 0.03333333],\n",
       "       [0.03333333, 0.03333333, 0.03333333, 0.9       ],\n",
       "       [0.9       , 0.03333333, 0.03333333, 0.03333333]])"
      ]
     },
     "execution_count": 60,
     "metadata": {},
     "output_type": "execute_result"
    }
   ],
   "source": [
    "p_lc = np.ones(shape=wt.shape) #probability matrix\n",
    "p_lc = p_lc*(r/3.)\n",
    "\n",
    "for l in range(L):\n",
    "    p_lc[l,wt_argmax[l]] = (1-r)\n",
    "    \n",
    "p_lc"
   ]
  },
  {
   "cell_type": "code",
   "execution_count": 61,
   "id": "0aa50fed-e5c2-49e5-b5ec-2ee9c940ffdb",
   "metadata": {},
   "outputs": [
    {
     "data": {
      "text/plain": [
       "array([[-0.01442636,  0.31832536,  0.09347338, -0.022287  ],\n",
       "       [-0.43216747,  0.01231116, -0.40430265,  0.50406893],\n",
       "       [ 0.37715384, -0.78328864,  0.03327839, -0.49238184],\n",
       "       [ 0.87494457,  1.59004872, -0.11907244, -0.08688596],\n",
       "       [-0.16134224,  1.46346066,  1.35453447,  1.53824526]])"
      ]
     },
     "execution_count": 61,
     "metadata": {},
     "output_type": "execute_result"
    }
   ],
   "source": [
    "x1 = x.copy()\n",
    "\n",
    "for l in range(L):\n",
    "    weighted_avg = np.average(x[l,:], weights=p_lc[l,:])\n",
    "    for c in range(4):\n",
    "        x1[l,c] -= weighted_avg\n",
    "       \n",
    "x1 #gauge-fixed (empirical) attribution matrix"
   ]
  }
 ],
 "metadata": {
  "kernelspec": {
   "display_name": "Python 3 (ipykernel)",
   "language": "python",
   "name": "python3"
  },
  "language_info": {
   "codemirror_mode": {
    "name": "ipython",
    "version": 3
   },
   "file_extension": ".py",
   "mimetype": "text/x-python",
   "name": "python",
   "nbconvert_exporter": "python",
   "pygments_lexer": "ipython3",
   "version": "3.7.13"
  }
 },
 "nbformat": 4,
 "nbformat_minor": 5
}
